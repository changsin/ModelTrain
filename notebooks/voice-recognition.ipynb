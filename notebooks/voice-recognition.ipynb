{
  "nbformat": 4,
  "nbformat_minor": 0,
  "metadata": {
    "colab": {
      "name": "voice-recognition.ipynb",
      "provenance": [],
      "machine_shape": "hm",
      "authorship_tag": "ABX9TyPtU9KTOta8s/7y2ccGwetE",
      "include_colab_link": true
    },
    "kernelspec": {
      "name": "python3",
      "display_name": "Python 3"
    },
    "language_info": {
      "name": "python"
    },
    "accelerator": "GPU"
  },
  "cells": [
    {
      "cell_type": "markdown",
      "metadata": {
        "id": "view-in-github",
        "colab_type": "text"
      },
      "source": [
        "<a href=\"https://colab.research.google.com/github/changsin/ModelTrain/blob/main/notebooks/voice-recognition.ipynb\" target=\"_parent\"><img src=\"https://colab.research.google.com/assets/colab-badge.svg\" alt=\"Open In Colab\"/></a>"
      ]
    },
    {
      "cell_type": "markdown",
      "metadata": {
        "id": "l3IR2E-4bPaO"
      },
      "source": [
        "# Voice recognition\n"
      ]
    },
    {
      "cell_type": "code",
      "source": [
        "!git clone https://github.com/changsin/ModelTrain.git\n",
        "%cd ModelTrain/voice-recognition/\n",
        "\n",
        "%pip install -qr requirements.txt  # install dependencies\n",
        "\n",
        "import torch\n",
        "from IPython.display import Image, clear_output  # to display images\n",
        "\n",
        "clear_output()\n",
        "print(f\"Setup complete. Using torch {torch.__version__} ({torch.cuda.get_device_properties(0).name if torch.cuda.is_available() else 'CPU'})\")"
      ],
      "metadata": {
        "id": "TJ3ehFYkJ2VE",
        "outputId": "998b5165-e5bb-4683-ab3a-1c11c95d15d6",
        "colab": {
          "base_uri": "https://localhost:8080/"
        }
      },
      "execution_count": 5,
      "outputs": [
        {
          "output_type": "stream",
          "name": "stdout",
          "text": [
            "Setup complete. Using torch 1.13.1+cu116 (Tesla T4)\n"
          ]
        }
      ]
    },
    {
      "cell_type": "code",
      "source": [
        "!pip install protobuf==3.20.*"
      ],
      "metadata": {
        "id": "v69-2A9ua6ad",
        "outputId": "9b63bffc-be49-4367-c034-bdd4e9a478f3",
        "colab": {
          "base_uri": "https://localhost:8080/"
        }
      },
      "execution_count": 6,
      "outputs": [
        {
          "output_type": "stream",
          "name": "stdout",
          "text": [
            "Looking in indexes: https://pypi.org/simple, https://us-python.pkg.dev/colab-wheels/public/simple/\n",
            "Collecting protobuf==3.20.*\n",
            "  Using cached protobuf-3.20.3-cp38-cp38-manylinux_2_5_x86_64.manylinux1_x86_64.whl (1.0 MB)\n",
            "Installing collected packages: protobuf\n",
            "  Attempting uninstall: protobuf\n",
            "    Found existing installation: protobuf 4.21.12\n",
            "    Uninstalling protobuf-4.21.12:\n",
            "      Successfully uninstalled protobuf-4.21.12\n",
            "\u001b[31mERROR: pip's dependency resolver does not currently take into account all the packages that are installed. This behaviour is the source of the following dependency conflicts.\n",
            "tensorflow 2.11.0 requires protobuf<3.20,>=3.9.2, but you have protobuf 3.20.3 which is incompatible.\u001b[0m\u001b[31m\n",
            "\u001b[0mSuccessfully installed protobuf-3.20.3\n"
          ]
        }
      ]
    },
    {
      "cell_type": "code",
      "source": [
        "# !git pull\n",
        "# %pip install -qr requirements.txt  # install dependencies\n",
        "\n",
        "!python main.py --epochs 10 --iteration 10"
      ],
      "metadata": {
        "id": "RDZC_r4GKE0V",
        "outputId": "8efa4f0e-5a7c-4435-c41e-e6ac5f9e8d74",
        "colab": {
          "base_uri": "https://localhost:8080/"
        }
      },
      "execution_count": 10,
      "outputs": [
        {
          "output_type": "stream",
          "name": "stdout",
          "text": [
            "torch version:  1.13.1+cu116\n",
            "Searching in ../data/senior_voice_commands/train/train_data/ from /content/ModelTrain/voice-recognition\n",
            "Searching folders ../data/senior_voice_commands/train/train_data/* ['../data/senior_voice_commands/train/train_data/o_0271']\n",
            "Found 1 sub folders\n",
            "Searching files  ../data/senior_voice_commands/train/train_data/o_0271/*\n",
            "Found 450 files\n",
            "Data files loaded 450\n",
            "Loaded label 450\n",
            "train_tokens: 405 val_tokens: 45\n",
            "train_file_list: 405 val_file_list: 45\n",
            "/usr/local/lib/python3.8/dist-packages/torchvision/models/_utils.py:208: UserWarning: The parameter 'pretrained' is deprecated since 0.13 and may be removed in the future, please use 'weights' instead.\n",
            "  warnings.warn(\n",
            "/usr/local/lib/python3.8/dist-packages/torchvision/models/_utils.py:223: UserWarning: Arguments other than a weight enum or `None` for 'weights' are deprecated since 0.13 and may be removed in the future. The current behavior is equivalent to passing `weights=ResNet50_Weights.IMAGENET1K_V1`. You can also use `weights=ResNet50_Weights.DEFAULT` to get the most up-to-date weights.\n",
            "  warnings.warn(msg)\n",
            "\u001b[34m\u001b[1mwandb\u001b[0m: Currently logged in as: \u001b[33mchangsin\u001b[0m. Use \u001b[1m`wandb login --relogin`\u001b[0m to force relogin\n",
            "\u001b[34m\u001b[1mwandb\u001b[0m: Tracking run with wandb version 0.13.10\n",
            "\u001b[34m\u001b[1mwandb\u001b[0m: Run data is saved locally in \u001b[35m\u001b[1m/content/ModelTrain/voice-recognition/wandb/run-20230210_232858-7jxzgryi\u001b[0m\n",
            "\u001b[34m\u001b[1mwandb\u001b[0m: Run \u001b[1m`wandb offline`\u001b[0m to turn off syncing.\n",
            "\u001b[34m\u001b[1mwandb\u001b[0m: Syncing run \u001b[33mproud-bird-12\u001b[0m\n",
            "\u001b[34m\u001b[1mwandb\u001b[0m: ⭐️ View project at \u001b[34m\u001b[4mhttps://wandb.ai/changsin/ModelTrain-voice-recognition\u001b[0m\n",
            "\u001b[34m\u001b[1mwandb\u001b[0m: 🚀 View run at \u001b[34m\u001b[4mhttps://wandb.ai/changsin/ModelTrain-voice-recognition/runs/7jxzgryi\u001b[0m\n",
            "/content/ModelTrain/voice-recognition/stt_model.py:16: UserWarning: To copy construct from a tensor, it is recommended to use sourceTensor.clone().detach() or sourceTensor.clone().detach().requires_grad_(True), rather than torch.tensor(sourceTensor).\n",
            "  seq = torch.tensor(torch.eq(seq, 0), dtype=torch.float32)\n",
            "main.py:84: UserWarning: To copy construct from a tensor, it is recommended to use sourceTensor.clone().detach() or sourceTensor.clone().detach().requires_grad_(True), rather than torch.tensor(sourceTensor).\n",
            "  mask = torch.tensor(mask, dtype=loss_.dtype)\n",
            "main.py:94: UserWarning: To copy construct from a tensor, it is recommended to use sourceTensor.clone().detach() or sourceTensor.clone().detach().requires_grad_(True), rather than torch.tensor(sourceTensor).\n",
            "  accuracies = torch.tensor(accuracies, dtype=torch.float32)\n",
            "main.py:95: UserWarning: To copy construct from a tensor, it is recommended to use sourceTensor.clone().detach() or sourceTensor.clone().detach().requires_grad_(True), rather than torch.tensor(sourceTensor).\n",
            "  mask = torch.tensor(mask, dtype=torch.float32)\n",
            "=================Epoch: 0\n",
            "total_train_loss: 75.65509796142578\n",
            "total_valid_loss: 8.865026473999023\n",
            "total_train_acc : 1.0900870561599731\n",
            "total_valid_acc : 0.4931968152523041\n",
            "=================Epoch: 1\n",
            "total_train_loss: 54.314971923828125\n",
            "total_valid_loss: 7.521265029907227\n",
            "total_train_acc : 3.5851738452911377\n",
            "total_valid_acc : 0.7122515439987183\n",
            "=================Epoch: 2\n",
            "total_train_loss: 46.348182678222656\n",
            "total_valid_loss: 6.6172261238098145\n",
            "total_train_acc : 5.169537544250488\n",
            "total_valid_acc : 0.8447725772857666\n",
            "=================Epoch: 3\n",
            "total_train_loss: 41.52682113647461\n",
            "total_valid_loss: 6.120863437652588\n",
            "total_train_acc : 5.6173481941223145\n",
            "total_valid_acc : 0.8998890519142151\n",
            "=================Epoch: 4\n",
            "total_train_loss: 38.310123443603516\n",
            "total_valid_loss: 5.761159420013428\n",
            "total_train_acc : 5.863459587097168\n",
            "total_valid_acc : 0.901285707950592\n",
            "=================Epoch: 5\n",
            "total_train_loss: 35.85946273803711\n",
            "total_valid_loss: 5.490602493286133\n",
            "total_train_acc : 5.884270191192627\n",
            "total_valid_acc : 0.9187219142913818\n",
            "=================Epoch: 6\n",
            "total_train_loss: 33.79389953613281\n",
            "total_valid_loss: 5.20768404006958\n",
            "total_train_acc : 5.91020393371582\n",
            "total_valid_acc : 0.9319827556610107\n",
            "=================Epoch: 7\n",
            "total_train_loss: 31.829748153686523\n",
            "total_valid_loss: 5.019711971282959\n",
            "total_train_acc : 6.032242774963379\n",
            "total_valid_acc : 0.9577842354774475\n",
            "=================Epoch: 8\n",
            "total_train_loss: 30.1312198638916\n",
            "total_valid_loss: 4.810881614685059\n",
            "total_train_acc : 6.1998491287231445\n",
            "total_valid_acc : 0.9668551683425903\n",
            "=================Epoch: 9\n",
            "total_train_loss: 28.909954071044922\n",
            "total_valid_loss: 4.71238374710083\n",
            "total_train_acc : 6.303613185882568\n",
            "total_valid_acc : 0.9717361330986023\n",
            "\u001b[34m\u001b[1mwandb\u001b[0m: Waiting for W&B process to finish... \u001b[32m(success).\u001b[0m\n",
            "\u001b[34m\u001b[1mwandb\u001b[0m: \n",
            "\u001b[34m\u001b[1mwandb\u001b[0m: Run history:\n",
            "\u001b[34m\u001b[1mwandb\u001b[0m:  total_train_acc ▁▄▆▇▇▇▇███\n",
            "\u001b[34m\u001b[1mwandb\u001b[0m: total_train_loss █▅▄▃▂▂▂▁▁▁\n",
            "\u001b[34m\u001b[1mwandb\u001b[0m:  total_valid_acc ▁▄▆▇▇▇▇███\n",
            "\u001b[34m\u001b[1mwandb\u001b[0m: total_valid_loss █▆▄▃▃▂▂▂▁▁\n",
            "\u001b[34m\u001b[1mwandb\u001b[0m: \n",
            "\u001b[34m\u001b[1mwandb\u001b[0m: Run summary:\n",
            "\u001b[34m\u001b[1mwandb\u001b[0m:  total_train_acc 6.30361\n",
            "\u001b[34m\u001b[1mwandb\u001b[0m: total_train_loss 28.90995\n",
            "\u001b[34m\u001b[1mwandb\u001b[0m:  total_valid_acc 0.97174\n",
            "\u001b[34m\u001b[1mwandb\u001b[0m: total_valid_loss 4.71238\n",
            "\u001b[34m\u001b[1mwandb\u001b[0m: \n",
            "\u001b[34m\u001b[1mwandb\u001b[0m: 🚀 View run \u001b[33mproud-bird-12\u001b[0m at: \u001b[34m\u001b[4mhttps://wandb.ai/changsin/ModelTrain-voice-recognition/runs/7jxzgryi\u001b[0m\n",
            "\u001b[34m\u001b[1mwandb\u001b[0m: Synced 5 W&B file(s), 0 media file(s), 0 artifact file(s) and 0 other file(s)\n",
            "\u001b[34m\u001b[1mwandb\u001b[0m: Find logs at: \u001b[35m\u001b[1m./wandb/run-20230210_232858-7jxzgryi/logs\u001b[0m\n"
          ]
        }
      ]
    },
    {
      "cell_type": "code",
      "source": [],
      "metadata": {
        "id": "2osqv-0xoTEq"
      },
      "execution_count": null,
      "outputs": []
    }
  ]
}