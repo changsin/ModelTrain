{
  "nbformat": 4,
  "nbformat_minor": 0,
  "metadata": {
    "colab": {
      "name": "train_dashboard_top15.ipynb",
      "provenance": [],
      "machine_shape": "hm",
      "authorship_tag": "ABX9TyPJtTA7s2Hc5AgSa0P+eyI+",
      "include_colab_link": true
    },
    "kernelspec": {
      "name": "python3",
      "display_name": "Python 3"
    },
    "language_info": {
      "name": "python"
    },
    "accelerator": "GPU"
  },
  "cells": [
    {
      "cell_type": "markdown",
      "metadata": {
        "id": "view-in-github",
        "colab_type": "text"
      },
      "source": [
        "<a href=\"https://colab.research.google.com/github/changsin/ModelTrain/blob/main/notebooks/voice-recognition.ipynb\" target=\"_parent\"><img src=\"https://colab.research.google.com/assets/colab-badge.svg\" alt=\"Open In Colab\"/></a>"
      ]
    },
    {
      "cell_type": "markdown",
      "metadata": {
        "id": "l3IR2E-4bPaO"
      },
      "source": [
        "# Voice recognition\n"
      ]
    },
    {
      "cell_type": "code",
      "source": [
        "# !git clone https://github.com/changsin/ModelTrain.git\n",
        "%cd ModelTrain/voice-recognition/\n",
        "\n",
        "%pip install -qr requirements.txt  # install dependencies\n",
        "\n",
        "import torch\n",
        "from IPython.display import Image, clear_output  # to display images\n",
        "\n",
        "clear_output()\n",
        "print(f\"Setup complete. Using torch {torch.__version__} ({torch.cuda.get_device_properties(0).name if torch.cuda.is_available() else 'CPU'})\")"
      ],
      "metadata": {
        "id": "TJ3ehFYkJ2VE",
        "outputId": "b40a4460-d16e-456d-ae6b-0731d476d3d2",
        "colab": {
          "base_uri": "https://localhost:8080/"
        }
      },
      "execution_count": 6,
      "outputs": [
        {
          "output_type": "stream",
          "name": "stdout",
          "text": [
            "Setup complete. Using torch 1.13.1+cu116 (Tesla T4)\n"
          ]
        }
      ]
    },
    {
      "cell_type": "code",
      "source": [
        "# !git pull\n",
        "# %pip install -qr requirements.txt  # install dependencies\n",
        "\n",
        "!python main.py"
      ],
      "metadata": {
        "id": "RDZC_r4GKE0V",
        "outputId": "8422d300-2486-4fa9-c8ac-b92c7610cb81",
        "colab": {
          "base_uri": "https://localhost:8080/"
        }
      },
      "execution_count": null,
      "outputs": [
        {
          "output_type": "stream",
          "name": "stdout",
          "text": [
            "torch version:  1.13.1+cu116\n",
            "Searching in ../data/senior_voice_commands/train/train_data/ from /content/ModelTrain/voice-recognition\n",
            "Searching folders ../data/senior_voice_commands/train/train_data/* ['../data/senior_voice_commands/train/train_data/o_0271']\n",
            "Found 1 sub folders\n",
            "Searching files  ../data/senior_voice_commands/train/train_data/o_0271/*\n",
            "Found 450 files\n",
            "Data files loaded 450\n",
            "Loaded label       [\"o_0271\\o_0271-13003-02-01-KES-F-08-A.wav\"  ... Unnamed: 2\n",
            "0     [\"o_0271\\o_0271-13004-02-01-KES-F-08-A.wav\"  ...        NaN\n",
            "1     [\"o_0271\\o_0271-13005-02-01-KES-F-08-A.wav\"  ...        NaN\n",
            "2     [\"o_0271\\o_0271-13006-02-01-KES-F-08-A.wav\"  ...        NaN\n",
            "3     [\"o_0271\\o_0271-13008-02-01-KES-F-08-A.wav\"  ...        NaN\n",
            "4     [\"o_0271\\o_0271-13009-02-01-KES-F-08-A.wav\"  ...        NaN\n",
            "...                                           ...  ...        ...\n",
            "1344  [\"o_0276\\o_0276-13893-02-01-GSH-F-08-A.wav\"  ...        NaN\n",
            "1345  [\"o_0276\\o_0276-13895-02-01-GSH-F-08-A.wav\"  ...        NaN\n",
            "1346  [\"o_0276\\o_0276-13896-02-01-GSH-F-08-A.wav\"  ...        NaN\n",
            "1347  [\"o_0276\\o_0276-13897-02-01-GSH-F-08-A.wav\"  ...        NaN\n",
            "1348  [\"o_0276\\o_0276-13898-02-01-GSH-F-08-A.wav\"  ...        NaN\n",
            "\n",
            "[1349 rows x 3 columns]\n",
            "/usr/local/lib/python3.8/dist-packages/torchvision/models/_utils.py:208: UserWarning: The parameter 'pretrained' is deprecated since 0.13 and may be removed in the future, please use 'weights' instead.\n",
            "  warnings.warn(\n",
            "/usr/local/lib/python3.8/dist-packages/torchvision/models/_utils.py:223: UserWarning: Arguments other than a weight enum or `None` for 'weights' are deprecated since 0.13 and may be removed in the future. The current behavior is equivalent to passing `weights=ResNet50_Weights.IMAGENET1K_V1`. You can also use `weights=ResNet50_Weights.DEFAULT` to get the most up-to-date weights.\n",
            "  warnings.warn(msg)\n",
            "\u001b[34m\u001b[1mwandb\u001b[0m: Currently logged in as: \u001b[33mchangsin\u001b[0m. Use \u001b[1m`wandb login --relogin`\u001b[0m to force relogin\n",
            "\u001b[34m\u001b[1mwandb\u001b[0m: Tracking run with wandb version 0.13.10\n",
            "\u001b[34m\u001b[1mwandb\u001b[0m: Run data is saved locally in \u001b[35m\u001b[1m/content/ModelTrain/voice-recognition/wandb/run-20230210_222212-npp8jmp8\u001b[0m\n",
            "\u001b[34m\u001b[1mwandb\u001b[0m: Run \u001b[1m`wandb offline`\u001b[0m to turn off syncing.\n",
            "\u001b[34m\u001b[1mwandb\u001b[0m: Syncing run \u001b[33methereal-silence-5\u001b[0m\n",
            "\u001b[34m\u001b[1mwandb\u001b[0m: ⭐️ View project at \u001b[34m\u001b[4mhttps://wandb.ai/changsin/ModelTrain-voice-recognition\u001b[0m\n",
            "\u001b[34m\u001b[1mwandb\u001b[0m: 🚀 View run at \u001b[34m\u001b[4mhttps://wandb.ai/changsin/ModelTrain-voice-recognition/runs/npp8jmp8\u001b[0m\n",
            "/content/ModelTrain/voice-recognition/stt_model.py:16: UserWarning: To copy construct from a tensor, it is recommended to use sourceTensor.clone().detach() or sourceTensor.clone().detach().requires_grad_(True), rather than torch.tensor(sourceTensor).\n",
            "  seq = torch.tensor(torch.eq(seq, 0), dtype=torch.float32)\n",
            "main.py:84: UserWarning: To copy construct from a tensor, it is recommended to use sourceTensor.clone().detach() or sourceTensor.clone().detach().requires_grad_(True), rather than torch.tensor(sourceTensor).\n",
            "  mask = torch.tensor(mask, dtype=loss_.dtype)\n",
            "main.py:94: UserWarning: To copy construct from a tensor, it is recommended to use sourceTensor.clone().detach() or sourceTensor.clone().detach().requires_grad_(True), rather than torch.tensor(sourceTensor).\n",
            "  accuracies = torch.tensor(accuracies, dtype=torch.float32)\n",
            "main.py:95: UserWarning: To copy construct from a tensor, it is recommended to use sourceTensor.clone().detach() or sourceTensor.clone().detach().requires_grad_(True), rather than torch.tensor(sourceTensor).\n",
            "  mask = torch.tensor(mask, dtype=torch.float32)\n"
          ]
        }
      ]
    },
    {
      "cell_type": "code",
      "source": [
        "!pip install protobuf==3.20.*"
      ],
      "metadata": {
        "id": "v69-2A9ua6ad",
        "outputId": "d9a3637a-76ce-49da-d1ad-423f282de0cf",
        "colab": {
          "base_uri": "https://localhost:8080/"
        }
      },
      "execution_count": 32,
      "outputs": [
        {
          "output_type": "stream",
          "name": "stdout",
          "text": [
            "Looking in indexes: https://pypi.org/simple, https://us-python.pkg.dev/colab-wheels/public/simple/\n",
            "Collecting protobuf==3.20.*\n",
            "  Downloading protobuf-3.20.3-cp38-cp38-manylinux_2_5_x86_64.manylinux1_x86_64.whl (1.0 MB)\n",
            "\u001b[2K     \u001b[90m━━━━━━━━━━━━━━━━━━━━━━━━━━━━━━━━━━━━━━━━\u001b[0m \u001b[32m1.0/1.0 MB\u001b[0m \u001b[31m34.1 MB/s\u001b[0m eta \u001b[36m0:00:00\u001b[0m\n",
            "\u001b[?25hInstalling collected packages: protobuf\n",
            "  Attempting uninstall: protobuf\n",
            "    Found existing installation: protobuf 4.21.12\n",
            "    Uninstalling protobuf-4.21.12:\n",
            "      Successfully uninstalled protobuf-4.21.12\n",
            "\u001b[31mERROR: pip's dependency resolver does not currently take into account all the packages that are installed. This behaviour is the source of the following dependency conflicts.\n",
            "tensorflow 2.11.0 requires protobuf<3.20,>=3.9.2, but you have protobuf 3.20.3 which is incompatible.\u001b[0m\u001b[31m\n",
            "\u001b[0mSuccessfully installed protobuf-3.20.3\n"
          ]
        }
      ]
    },
    {
      "cell_type": "code",
      "source": [],
      "metadata": {
        "id": "kX2uPLZTaXfr"
      },
      "execution_count": null,
      "outputs": []
    }
  ]
}